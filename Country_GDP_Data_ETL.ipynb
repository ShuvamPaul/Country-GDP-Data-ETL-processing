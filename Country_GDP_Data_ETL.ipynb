from bs4 import BeautifulSoup
import requests
import pandas as pd
import numpy as np
import sqlite3
from datetime import datetime 

# Code for ETL operations on Country-GDP data

# Importing the required libraries

def log_progress(message):
    timestamp_format = '%Y-%h-%d-%H:%M:%S' # Year-Monthname-Day-Hour-Minute-Second 
    now = datetime.now() # get current timestamp 
    timestamp = now.strftime(timestamp_format) 
    with open("./code_log.txt","a") as f: 
        f.write(timestamp + ' : ' + message + '\n')

def extract(url, table_attribs):
    page = requests.get(url).text
    data = BeautifulSoup(page, 'html.parser')
    df = pd.DataFrame(columns=table_attribs)
    tables = data.find_all('tbody')
    if len(tables) < 1:
        print("No <tbody> found on the page")
        return df
    table = tables[0]
    rows = table.find_all('tr')
    for row in rows[1:]:  # Skip the header row
        cols = row.find_all('td')
        if len(cols) == 3:  # Ensure there are exactly 3 columns
            try:
                name = cols[1].text.strip()
                mc_usd = cols[2].text.strip()
                if name and mc_usd:
                    data_dict = {
                        "Name": name,
                        "MC_USD_Billion": mc_usd
                    }
                    df1 = pd.DataFrame([data_dict])
                    df = pd.concat([df, df1], ignore_index=True)
            except Exception as e:
                print(f"Error processing row: {row} - {e}")
    if "MC_USD_Billion" in df.columns:
        df["MC_USD_Billion"] = pd.to_numeric(df["MC_USD_Billion"], errors="coerce")
    df = df.drop(columns=['Rank'], errors='ignore')  # Remove Rank column if it exists
    df.reset_index(drop=True, inplace=True)  # Reset index to remove the previous one
    print(f"DataFrame after extraction (without Rank and Index): {df.head()}")  # Debug: Check the DataFrame head
    return df


def transform(df, csv_path):
    dataframe=pd.read_csv(csv_path)
    dict = dataframe.set_index('Currency').to_dict()['Rate']
    print(dict)
    df['MC_GBP_Billion'] = [np.round(x*dict['GBP'],2) for x in df['MC_USD_Billion']]
    df['MC_EUR_Billion'] = [np.round(x*dict['EUR'],2) for x in df['MC_USD_Billion']]
    df['MC_INR_Billion'] = [np.round(x*dict['INR'],2) for x in df['MC_USD_Billion']]
    print(df['MC_EUR_Billion'][4])
    return df

def load_to_csv(df, output_path):
    df.to_csv(output_path)

def load_to_db(df, sql_connection, table_name):
    df.to_sql(table_name, sql_connection, if_exists='replace', index=False)

def run_query(query_statement, sql_connection):
    print(query_statement)
    query_output = pd.read_sql(query_statement, sql_connection)
    print(query_output)


url = 'https://web.archive.org/web/20230908091635/https://en.wikipedia.org/wiki/List_of_largest_banks'
table_attribs = ["Name", "MC_USD_Billion"]
db_name = 'Banks.db'
table_name = 'Largest_banks'
csv_path = './exchange_rate.csv'
output_path = './Largest_banks_data.csv'

log_progress('Preliminaries complete. Initiating ETL process')

df = extract(url, table_attribs)
log_progress('Data extraction complete. Initiating Transformation process')

df = transform(df,csv_path)
log_progress('Data transformation complete. Initiating loading process')

load_to_csv(df, output_path)
log_progress('Data saved to CSV file')

sql_connection = sqlite3.connect('Banks.db')

log_progress('SQL Connection initiated.')

load_to_db(df, sql_connection, table_name)

log_progress('Data loaded to Database as table. Running the query')

query_statement = f"SELECT Name from Largest_banks LIMIT 5"
run_query(query_statement, sql_connection)

log_progress('Process Complete.')

sql_connection.close()
